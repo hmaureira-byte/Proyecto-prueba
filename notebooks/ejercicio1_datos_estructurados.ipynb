{
 "cells": [
  {
   "cell_type": "markdown",
   "id": "b5f517db",
   "metadata": {},
   "source": [
    "# Ejercicio 1 – Comparación de datasets estructurados y no estructurados   \n",
    "**Alumna:** Helen Maureira Barrenechea  "
   ]
  },
  {
   "cell_type": "markdown",
   "id": "19f5f096",
   "metadata": {},
   "source": [
    "## Objetivo: \n",
    "Comparar el procesamiento y análisis básico de dos tipos de datos:  \n",
    "- **Estructurados** → dataset tabular (CSV)  \n",
    "- **No estructurados** → dataset JSON con texto  \n",
    "\n",
    "El propósito es reconocer las diferencias en formato, manipulación y tipo de análisis que puede realizarse con cada uno."
   ]
  },
  {
   "cell_type": "code",
   "execution_count": 10,
   "id": "99769443",
   "metadata": {},
   "outputs": [],
   "source": [
    "# Importar librerías principales\n",
    "import pandas as pd\n",
    "import numpy as np\n",
    "import json\n",
    "import matplotlib.pyplot as plt\n",
    "import seaborn as sns\n"
   ]
  },
  {
   "cell_type": "code",
   "execution_count": 11,
   "id": "28fd8f67",
   "metadata": {},
   "outputs": [
    {
     "data": {
      "text/html": [
       "<div>\n",
       "<style scoped>\n",
       "    .dataframe tbody tr th:only-of-type {\n",
       "        vertical-align: middle;\n",
       "    }\n",
       "\n",
       "    .dataframe tbody tr th {\n",
       "        vertical-align: top;\n",
       "    }\n",
       "\n",
       "    .dataframe thead th {\n",
       "        text-align: right;\n",
       "    }\n",
       "</style>\n",
       "<table border=\"1\" class=\"dataframe\">\n",
       "  <thead>\n",
       "    <tr style=\"text-align: right;\">\n",
       "      <th></th>\n",
       "      <th>sepal_length</th>\n",
       "      <th>sepal_width</th>\n",
       "      <th>petal_length</th>\n",
       "      <th>petal_width</th>\n",
       "      <th>species</th>\n",
       "    </tr>\n",
       "  </thead>\n",
       "  <tbody>\n",
       "    <tr>\n",
       "      <th>0</th>\n",
       "      <td>5.1</td>\n",
       "      <td>3.5</td>\n",
       "      <td>1.4</td>\n",
       "      <td>0.2</td>\n",
       "      <td>setosa</td>\n",
       "    </tr>\n",
       "    <tr>\n",
       "      <th>1</th>\n",
       "      <td>4.9</td>\n",
       "      <td>3.0</td>\n",
       "      <td>1.4</td>\n",
       "      <td>0.2</td>\n",
       "      <td>setosa</td>\n",
       "    </tr>\n",
       "    <tr>\n",
       "      <th>2</th>\n",
       "      <td>4.7</td>\n",
       "      <td>3.2</td>\n",
       "      <td>1.3</td>\n",
       "      <td>0.2</td>\n",
       "      <td>setosa</td>\n",
       "    </tr>\n",
       "    <tr>\n",
       "      <th>3</th>\n",
       "      <td>4.6</td>\n",
       "      <td>3.1</td>\n",
       "      <td>1.5</td>\n",
       "      <td>0.2</td>\n",
       "      <td>setosa</td>\n",
       "    </tr>\n",
       "    <tr>\n",
       "      <th>4</th>\n",
       "      <td>5.0</td>\n",
       "      <td>3.6</td>\n",
       "      <td>1.4</td>\n",
       "      <td>0.2</td>\n",
       "      <td>setosa</td>\n",
       "    </tr>\n",
       "  </tbody>\n",
       "</table>\n",
       "</div>"
      ],
      "text/plain": [
       "   sepal_length  sepal_width  petal_length  petal_width species\n",
       "0           5.1          3.5           1.4          0.2  setosa\n",
       "1           4.9          3.0           1.4          0.2  setosa\n",
       "2           4.7          3.2           1.3          0.2  setosa\n",
       "3           4.6          3.1           1.5          0.2  setosa\n",
       "4           5.0          3.6           1.4          0.2  setosa"
      ]
     },
     "execution_count": 11,
     "metadata": {},
     "output_type": "execute_result"
    }
   ],
   "source": [
    "# Dataset estructurado: Iris (incluido en seaborn)\n",
    "iris = sns.load_dataset(\"iris\")\n",
    "\n",
    "# Mostrar las primeras filas\n",
    "iris.head()\n"
   ]
  },
  {
   "cell_type": "code",
   "execution_count": 12,
   "id": "14dd1570",
   "metadata": {},
   "outputs": [
    {
     "name": "stdout",
     "output_type": "stream",
     "text": [
      "<class 'pandas.core.frame.DataFrame'>\n",
      "RangeIndex: 150 entries, 0 to 149\n",
      "Data columns (total 5 columns):\n",
      " #   Column        Non-Null Count  Dtype  \n",
      "---  ------        --------------  -----  \n",
      " 0   sepal_length  150 non-null    float64\n",
      " 1   sepal_width   150 non-null    float64\n",
      " 2   petal_length  150 non-null    float64\n",
      " 3   petal_width   150 non-null    float64\n",
      " 4   species       150 non-null    object \n",
      "dtypes: float64(4), object(1)\n",
      "memory usage: 6.0+ KB\n"
     ]
    },
    {
     "data": {
      "text/plain": [
       "np.int64(1)"
      ]
     },
     "execution_count": 12,
     "metadata": {},
     "output_type": "execute_result"
    }
   ],
   "source": [
    "# Información general del dataset\n",
    "iris.info()\n",
    "\n",
    "# Estadísticas descriptivas\n",
    "iris.describe()\n",
    "\n",
    "# Revisión de valores faltantes\n",
    "iris.isnull().sum()\n",
    "# Revisión de duplicados\n",
    "iris.duplicated().sum()"
   ]
  },
  {
   "cell_type": "code",
   "execution_count": 13,
   "id": "70373fc8",
   "metadata": {},
   "outputs": [
    {
     "data": {
      "image/png": "[encoded data removed]",
      "text/plain": [
       "<Figure size 640x480 with 1 Axes>"
      ]
     },
     "metadata": {},
     "output_type": "display_data"
    }
   ],
   "source": [
    "# Gráfico de dispersión: largo vs ancho del pétalo por especie\n",
    "sns.scatterplot(data=iris, x=\"petal_length\", y=\"petal_width\", hue=\"species\")\n",
    "plt.title(\"Relación entre largo y ancho del pétalo por especie\")\n",
    "plt.show()\n"
   ]
  },
  {
   "cell_type": "markdown",
   "id": "2fe8b0e7",
   "metadata": {},
   "source": [
    "### Análisis del dataset estructurado  \n",
    "- Los datos están organizados en una **tabla** con filas y columnas.  \n",
    "- Cada columna representa una **variable medible** (ejemplo: largo del sépal, ancho del pétalo).  \n",
    "- Es posible realizar operaciones estadísticas directas (media, desviación, correlación).  \n",
    "- Se detecta que no existen valores nulos y las especies están bien categorizadas.\n"
   ]
  },
  {
   "cell_type": "code",
   "execution_count": 14,
   "id": "8306681b",
   "metadata": {},
   "outputs": [
    {
     "data": {
      "text/html": [
       "<div>\n",
       "<style scoped>\n",
       "    .dataframe tbody tr th:only-of-type {\n",
       "        vertical-align: middle;\n",
       "    }\n",
       "\n",
       "    .dataframe tbody tr th {\n",
       "        vertical-align: top;\n",
       "    }\n",
       "\n",
       "    .dataframe thead th {\n",
       "        text-align: right;\n",
       "    }\n",
       "</style>\n",
       "<table border=\"1\" class=\"dataframe\">\n",
       "  <thead>\n",
       "    <tr style=\"text-align: right;\">\n",
       "      <th></th>\n",
       "      <th>usuario</th>\n",
       "      <th>comentario</th>\n",
       "    </tr>\n",
       "  </thead>\n",
       "  <tbody>\n",
       "    <tr>\n",
       "      <th>0</th>\n",
       "      <td>Ana</td>\n",
       "      <td>El servicio fue excelente, volvería sin dudarlo</td>\n",
       "    </tr>\n",
       "    <tr>\n",
       "      <th>1</th>\n",
       "      <td>Luis</td>\n",
       "      <td>Demasiado lento el envío, no lo recomiendo</td>\n",
       "    </tr>\n",
       "    <tr>\n",
       "      <th>2</th>\n",
       "      <td>María</td>\n",
       "      <td>Calidad normal, nada especial</td>\n",
       "    </tr>\n",
       "    <tr>\n",
       "      <th>3</th>\n",
       "      <td>Pedro</td>\n",
       "      <td>Me encantó el producto, llegó antes de tiempo</td>\n",
       "    </tr>\n",
       "    <tr>\n",
       "      <th>4</th>\n",
       "      <td>Carla</td>\n",
       "      <td>No cumple lo prometido, experiencia negativa</td>\n",
       "    </tr>\n",
       "  </tbody>\n",
       "</table>\n",
       "</div>"
      ],
      "text/plain": [
       "  usuario                                       comentario\n",
       "0     Ana  El servicio fue excelente, volvería sin dudarlo\n",
       "1    Luis       Demasiado lento el envío, no lo recomiendo\n",
       "2   María                    Calidad normal, nada especial\n",
       "3   Pedro    Me encantó el producto, llegó antes de tiempo\n",
       "4   Carla     No cumple lo prometido, experiencia negativa"
      ]
     },
     "execution_count": 14,
     "metadata": {},
     "output_type": "execute_result"
    }
   ],
   "source": [
    "# Ejemplo de dataset JSON (simula opiniones de usuarios)\n",
    "json_data = '''\n",
    "[\n",
    "    {\"usuario\": \"Ana\", \"comentario\": \"El servicio fue excelente, volvería sin dudarlo\"},\n",
    "    {\"usuario\": \"Luis\", \"comentario\": \"Demasiado lento el envío, no lo recomiendo\"},\n",
    "    {\"usuario\": \"María\", \"comentario\": \"Calidad normal, nada especial\"},\n",
    "    {\"usuario\": \"Pedro\", \"comentario\": \"Me encantó el producto, llegó antes de tiempo\"},\n",
    "    {\"usuario\": \"Carla\", \"comentario\": \"No cumple lo prometido, experiencia negativa\"}\n",
    "]\n",
    "'''\n",
    "\n",
    "# Cargar el JSON en una variable de Python\n",
    "opiniones = json.loads(json_data)\n",
    "\n",
    "# Convertirlo a DataFrame para manipularlo\n",
    "df_texto = pd.DataFrame(opiniones)\n",
    "df_texto\n"
   ]
  },
  {
   "cell_type": "code",
   "execution_count": 15,
   "id": "825f869b",
   "metadata": {},
   "outputs": [
    {
     "data": {
      "image/png": "[encoded data removed]",
      "text/plain": [
       "<Figure size 640x480 with 1 Axes>"
      ]
     },
     "metadata": {},
     "output_type": "display_data"
    }
   ],
   "source": [
    "# Conteo de opiniones positivas vs negativas\n",
    "conteos = {\n",
    "    \"positivas\": df_texto[\"comentario\"].str.contains(\"excelente\", case=False).sum() +\n",
    "                 df_texto[\"comentario\"].str.contains(\"encantó\", case=False).sum(),\n",
    "    \"negativas\": df_texto[\"comentario\"].str.contains(\"lento\", case=False).sum() +\n",
    "                 df_texto[\"comentario\"].str.contains(\"negativa\", case=False).sum()\n",
    "}\n",
    "\n",
    "plt.bar(conteos.keys(), conteos.values())\n",
    "plt.title(\"Comparación de opiniones positivas y negativas\")\n",
    "plt.ylabel(\"Frecuencia\")\n",
    "plt.show()\n"
   ]
  },
  {
   "cell_type": "markdown",
   "id": "e185961a",
   "metadata": {},
   "source": [
    "### Análisis del dataset no estructurado  \n",
    "- Los datos provienen de **texto libre**, sin formato tabular inicial.  \n",
    "- Para analizarlos es necesario **transformar el texto en información cuantificable** (por ejemplo, conteos o sentimientos).  \n",
    "- El procesamiento de texto requiere técnicas adicionales como limpieza, tokenización o análisis de sentimientos.  \n",
    "- A diferencia del CSV, este tipo de datos **no se puede resumir directamente** con estadísticas simples.\n"
   ]
  },
  {
   "cell_type": "markdown",
   "id": "20b785a1",
   "metadata": {},
   "source": [
    "## Conclusión general\n",
    "| Característica | Estructurado (CSV) | No estructurado (JSON / texto) |\n",
    "|-----------------|--------------------|--------------------------------|\n",
    "| Formato | Tablas con filas y columnas | Texto libre o jerárquico |\n",
    "| Lectura con Pandas | Directa con `read_csv()` | Requiere `json` o procesamiento previo |\n",
    "| Análisis estadístico | Fácil, rápido | Requiere limpieza y preprocesamiento |\n",
    "| Visualización | Inmediata | Necesita métricas derivadas |\n",
    "| Ejemplo | Iris Dataset | Opiniones de usuarios |\n",
    "\n",
    "**Conclusión:** Los datos estructurados son más simples de analizar y visualizar directamente, mientras que los no estructurados ofrecen información más rica pero requieren un proceso adicional de interpretación y transformación.\n"
   ]
  },
  {
   "cell_type": "markdown",
   "id": "04fc12a8",
   "metadata": {},
   "source": [
    "### Reflexión personal  \n",
    "Este ejercicio permitió comprender las diferencias entre el tratamiento de datos estructurados y no estructurados.  \n",
    "Reconocí la importancia de adaptar las herramientas de análisis al tipo de datos disponible y la relevancia del preprocesamiento cuando se trabaja con texto libre.  \n",
    "El uso de Python y Pandas facilitó la comprensión práctica de ambos enfoques.\n"
   ]
  }
 ],
 "metadata": {
  "kernelspec": {
   "display_name": "Python 3",
   "language": "python",
   "name": "python3"
  },
  "language_info": {
   "codemirror_mode": {
    "name": "ipython",
    "version": 3
   },
   "file_extension": ".py",
   "mimetype": "text/x-python",
   "name": "python",
   "nbconvert_exporter": "python",
   "pygments_lexer": "ipython3",
   "version": "3.13.7"
  }
 },
 "nbformat": 4,
 "nbformat_minor": 5
}
