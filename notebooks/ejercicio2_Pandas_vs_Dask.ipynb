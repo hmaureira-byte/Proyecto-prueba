{
 "cells": [
  {
   "cell_type": "markdown",
   "id": "2d8b23a5",
   "metadata": {},
   "source": [
    "# Ejercicio 2 – Pipeline de ingestión de datos grandes (Pandas vs Dask)\n",
    "### Objetivo  \n",
    "Comparar la lectura y manipulación de un dataset grande alojado en la nube usando **Pandas** y **Dask**, midiendo tiempo y facilidad de uso.  \n",
    "Se usa el dataset *Air Quality* del UCI Machine Learning Repository.  \n"
   ]
  },
  {
   "cell_type": "code",
   "execution_count": 1,
   "id": "3e609882",
   "metadata": {},
   "outputs": [
    {
     "name": "stdout",
     "output_type": "stream",
     "text": [
      "Note: you may need to restart the kernel to use updated packages.\n"
     ]
    }
   ],
   "source": [
    "# 1) Instalar/actualizar paquetes necesarios en el kernel actual\n",
    "# (ejecuta esto; puede mostrar salida de pip)\n",
    "%pip install -q --upgrade pyarrow \"dask[dataframe]\" fsspec pandas requests"
   ]
  },
  {
   "cell_type": "code",
   "execution_count": 3,
   "id": "73a7ea2e",
   "metadata": {},
   "outputs": [
    {
     "name": "stdout",
     "output_type": "stream",
     "text": [
      "versions -> pandas 2.3.3, dask 2025.9.1\n"
     ]
    }
   ],
   "source": [
    "# 2) Código principal\n",
    "import sys, os, time, tempfile, zipfile, io, importlib\n",
    "import subprocess\n",
    "\n",
    "# Importar módulos (si falla, mostrará error)\n",
    "import pandas as pd\n",
    "import dask\n",
    "import dask.dataframe as dd\n",
    "import requests\n",
    "\n",
    "print(f\"versions -> pandas {pd.__version__}, dask {dask.__version__}\")"
   ]
  },
  {
   "cell_type": "code",
   "execution_count": 4,
   "id": "a6fa505d",
   "metadata": {},
   "outputs": [
    {
     "name": "stdout",
     "output_type": "stream",
     "text": [
      "Descargando ZIP...\n",
      "CSV extraído a: C:\\Users\\helen\\AppData\\Local\\Temp\\AirQualityUCI.csv  (tardó 5.58s)\n"
     ]
    }
   ],
   "source": [
    "# 3) Descargar y extraer CSV del ZIP a archivo temporal\n",
    "url = \"https://archive.ics.uci.edu/ml/machine-learning-databases/00360/AirQualityUCI.zip\"\n",
    "print(\"Descargando ZIP...\")\n",
    "t0 = time.time()\n",
    "resp = requests.get(url)\n",
    "resp.raise_for_status()\n",
    "with zipfile.ZipFile(io.BytesIO(resp.content)) as z:\n",
    "    csv_name = \"AirQualityUCI.csv\"\n",
    "    if csv_name not in z.namelist():\n",
    "        raise FileNotFoundError(f\"{csv_name} no está en el ZIP; contenidos: {z.namelist()[:10]}\")\n",
    "    with z.open(csv_name) as f:\n",
    "        tmp_path = os.path.join(tempfile.gettempdir(), csv_name)\n",
    "        with open(tmp_path, \"wb\") as out_f:\n",
    "            out_f.write(f.read())\n",
    "t1 = time.time()\n",
    "print(f\"CSV extraído a: {tmp_path}  (tardó {t1-t0:.2f}s)\")"
   ]
  },
  {
   "cell_type": "code",
   "execution_count": 6,
   "id": "8681e2e3",
   "metadata": {},
   "outputs": [
    {
     "name": "stdout",
     "output_type": "stream",
     "text": [
      "Leyendo CSV con pandas...\n",
      "Leído con pandas: (9471, 17)  (took 0.06s)\n"
     ]
    }
   ],
   "source": [
    "# 4) Leer con pandas evitando el uso de Arrow-backed StringArray si fuera posible\n",
    "print(\"Leyendo CSV con pandas...\")\n",
    "t0 = time.time()\n",
    "try:\n",
    "    # dtype_backend=\"numpy_nullable\" fuerza usar numpy_nullable/object para strings (evita pyarrow-backed strings)\n",
    "    df_pandas = pd.read_csv(tmp_path, sep=';', decimal=',', encoding='latin1', low_memory=False, dtype_backend=\"numpy_nullable\")\n",
    "except TypeError:\n",
    "    # pandas antiguo que no tiene dtype_backend -> fallback\n",
    "    df_pandas = pd.read_csv(tmp_path, sep=';', decimal=',', encoding='latin1', low_memory=False)\n",
    "t1 = time.time()\n",
    "print(f\"Leído con pandas: {df_pandas.shape}  (took {t1-t0:.2f}s)\")"
   ]
  },
  {
   "cell_type": "code",
   "execution_count": 8,
   "id": "e054beb0",
   "metadata": {},
   "outputs": [],
   "source": [
    "# 5) Limpieza y conversión de columnas numéricas (coma decimal -> punto)\n",
    "df_pandas = df_pandas.dropna(axis=1, how='all')\n",
    "df_pandas.columns = df_pandas.columns.str.strip()\n",
    "\n",
    "numeric_cols = [\"CO(GT)\", \"PT08.S1(CO)\", \"C6H6(GT)\", \"NO2(GT)\"]\n",
    "for c in numeric_cols:\n",
    "    if c in df_pandas.columns:\n",
    "        # Reemplaza comas por puntos y convierte a numérico (coerce NaN si no se puede)\n",
    "        df_pandas[c] = pd.to_numeric(\n",
    "            df_pandas[c].astype(str).str.replace(',', '.', regex=False),\n",
    "            errors='coerce'\n",
    "        )"
   ]
  },
  {
   "cell_type": "code",
   "execution_count": 9,
   "id": "841baa5d",
   "metadata": {},
   "outputs": [
    {
     "name": "stdout",
     "output_type": "stream",
     "text": [
      "Convirtiendo a Dask DataFrame (dd.from_pandas)...\n",
      "Dask particiones: 4  (conversión 0.14s)\n"
     ]
    }
   ],
   "source": [
    "# 6) Crear Dask DataFrame a partir de pandas (evita dd.read_csv y problemas de backends)\n",
    "print(\"Convirtiendo a Dask DataFrame (dd.from_pandas)...\")\n",
    "t0 = time.time()\n",
    "# Ajusta npartitions según memoria/cores; 4 es razonable para este dataset pequeño\n",
    "df_dask = dd.from_pandas(df_pandas, npartitions=4)\n",
    "t1 = time.time()\n",
    "print(f\"Dask particiones: {df_dask.npartitions}  (conversión {t1-t0:.2f}s)\")"
   ]
  },
  {
   "cell_type": "code",
   "execution_count": 10,
   "id": "1408b5c1",
   "metadata": {},
   "outputs": [
    {
     "name": "stdout",
     "output_type": "stream",
     "text": [
      "\n",
      "--- Comparación de tiempos ---\n",
      "Pandas promedio CO(GT): -34.2075  | Tiempo cálculo: 0.0278s\n",
      "Dask promedio CO(GT):   -34.2075  | Tiempo compute: 0.0733s\n"
     ]
    }
   ],
   "source": [
    "# 7) Operaciones comparables: promedio de CO(GT)\n",
    "if \"CO(GT)\" not in df_pandas.columns:\n",
    "    raise KeyError(\"'CO(GT)' no está en las columnas del DataFrame. Columnas disponibles: \" + \", \".join(df_pandas.columns[:20]))\n",
    "\n",
    "print(\"\\n--- Comparación de tiempos ---\")\n",
    "t0 = time.time()\n",
    "mean_pandas = df_pandas[\"CO(GT)\"].mean()\n",
    "t1 = time.time()\n",
    "print(f\"Pandas promedio CO(GT): {mean_pandas:.4f}  | Tiempo cálculo: {t1-t0:.4f}s\")\n",
    "\n",
    "t0 = time.time()\n",
    "mean_dask = df_dask[\"CO(GT)\"].mean().compute()\n",
    "t1 = time.time()\n",
    "print(f\"Dask promedio CO(GT):   {mean_dask:.4f}  | Tiempo compute: {t1-t0:.4f}s\")"
   ]
  },
  {
   "cell_type": "code",
   "execution_count": 11,
   "id": "fe59b407",
   "metadata": {},
   "outputs": [
    {
     "name": "stdout",
     "output_type": "stream",
     "text": [
      "\n",
      "Primeras 5 filas (pandas):\n"
     ]
    },
    {
     "data": {
      "text/html": [
       "<div>\n",
       "<style scoped>\n",
       "    .dataframe tbody tr th:only-of-type {\n",
       "        vertical-align: middle;\n",
       "    }\n",
       "\n",
       "    .dataframe tbody tr th {\n",
       "        vertical-align: top;\n",
       "    }\n",
       "\n",
       "    .dataframe thead th {\n",
       "        text-align: right;\n",
       "    }\n",
       "</style>\n",
       "<table border=\"1\" class=\"dataframe\">\n",
       "  <thead>\n",
       "    <tr style=\"text-align: right;\">\n",
       "      <th></th>\n",
       "      <th>Date</th>\n",
       "      <th>Time</th>\n",
       "      <th>CO(GT)</th>\n",
       "      <th>PT08.S1(CO)</th>\n",
       "      <th>NMHC(GT)</th>\n",
       "      <th>C6H6(GT)</th>\n",
       "      <th>PT08.S2(NMHC)</th>\n",
       "      <th>NOx(GT)</th>\n",
       "      <th>PT08.S3(NOx)</th>\n",
       "      <th>NO2(GT)</th>\n",
       "      <th>PT08.S4(NO2)</th>\n",
       "      <th>PT08.S5(O3)</th>\n",
       "      <th>T</th>\n",
       "      <th>RH</th>\n",
       "      <th>AH</th>\n",
       "    </tr>\n",
       "  </thead>\n",
       "  <tbody>\n",
       "    <tr>\n",
       "      <th>0</th>\n",
       "      <td>10/03/2004</td>\n",
       "      <td>18.00.00</td>\n",
       "      <td>2.6</td>\n",
       "      <td>1360.0</td>\n",
       "      <td>150</td>\n",
       "      <td>11.9</td>\n",
       "      <td>1046</td>\n",
       "      <td>166</td>\n",
       "      <td>1056</td>\n",
       "      <td>113.0</td>\n",
       "      <td>1692</td>\n",
       "      <td>1268</td>\n",
       "      <td>13.6</td>\n",
       "      <td>48.9</td>\n",
       "      <td>0.7578</td>\n",
       "    </tr>\n",
       "    <tr>\n",
       "      <th>1</th>\n",
       "      <td>10/03/2004</td>\n",
       "      <td>19.00.00</td>\n",
       "      <td>2.0</td>\n",
       "      <td>1292.0</td>\n",
       "      <td>112</td>\n",
       "      <td>9.4</td>\n",
       "      <td>955</td>\n",
       "      <td>103</td>\n",
       "      <td>1174</td>\n",
       "      <td>92.0</td>\n",
       "      <td>1559</td>\n",
       "      <td>972</td>\n",
       "      <td>13.3</td>\n",
       "      <td>47.7</td>\n",
       "      <td>0.7255</td>\n",
       "    </tr>\n",
       "    <tr>\n",
       "      <th>2</th>\n",
       "      <td>10/03/2004</td>\n",
       "      <td>20.00.00</td>\n",
       "      <td>2.2</td>\n",
       "      <td>1402.0</td>\n",
       "      <td>88</td>\n",
       "      <td>9.0</td>\n",
       "      <td>939</td>\n",
       "      <td>131</td>\n",
       "      <td>1140</td>\n",
       "      <td>114.0</td>\n",
       "      <td>1555</td>\n",
       "      <td>1074</td>\n",
       "      <td>11.9</td>\n",
       "      <td>54.0</td>\n",
       "      <td>0.7502</td>\n",
       "    </tr>\n",
       "    <tr>\n",
       "      <th>3</th>\n",
       "      <td>10/03/2004</td>\n",
       "      <td>21.00.00</td>\n",
       "      <td>2.2</td>\n",
       "      <td>1376.0</td>\n",
       "      <td>80</td>\n",
       "      <td>9.2</td>\n",
       "      <td>948</td>\n",
       "      <td>172</td>\n",
       "      <td>1092</td>\n",
       "      <td>122.0</td>\n",
       "      <td>1584</td>\n",
       "      <td>1203</td>\n",
       "      <td>11.0</td>\n",
       "      <td>60.0</td>\n",
       "      <td>0.7867</td>\n",
       "    </tr>\n",
       "    <tr>\n",
       "      <th>4</th>\n",
       "      <td>10/03/2004</td>\n",
       "      <td>22.00.00</td>\n",
       "      <td>1.6</td>\n",
       "      <td>1272.0</td>\n",
       "      <td>51</td>\n",
       "      <td>6.5</td>\n",
       "      <td>836</td>\n",
       "      <td>131</td>\n",
       "      <td>1205</td>\n",
       "      <td>116.0</td>\n",
       "      <td>1490</td>\n",
       "      <td>1110</td>\n",
       "      <td>11.2</td>\n",
       "      <td>59.6</td>\n",
       "      <td>0.7888</td>\n",
       "    </tr>\n",
       "  </tbody>\n",
       "</table>\n",
       "</div>"
      ],
      "text/plain": [
       "         Date      Time  CO(GT)  PT08.S1(CO)  NMHC(GT)  C6H6(GT)  \\\n",
       "0  10/03/2004  18.00.00     2.6       1360.0       150      11.9   \n",
       "1  10/03/2004  19.00.00     2.0       1292.0       112       9.4   \n",
       "2  10/03/2004  20.00.00     2.2       1402.0        88       9.0   \n",
       "3  10/03/2004  21.00.00     2.2       1376.0        80       9.2   \n",
       "4  10/03/2004  22.00.00     1.6       1272.0        51       6.5   \n",
       "\n",
       "   PT08.S2(NMHC)  NOx(GT)  PT08.S3(NOx)  NO2(GT)  PT08.S4(NO2)  PT08.S5(O3)  \\\n",
       "0           1046      166          1056    113.0          1692         1268   \n",
       "1            955      103          1174     92.0          1559          972   \n",
       "2            939      131          1140    114.0          1555         1074   \n",
       "3            948      172          1092    122.0          1584         1203   \n",
       "4            836      131          1205    116.0          1490         1110   \n",
       "\n",
       "      T    RH      AH  \n",
       "0  13.6  48.9  0.7578  \n",
       "1  13.3  47.7  0.7255  \n",
       "2  11.9  54.0  0.7502  \n",
       "3  11.0  60.0  0.7867  \n",
       "4  11.2  59.6  0.7888  "
      ]
     },
     "metadata": {},
     "output_type": "display_data"
    }
   ],
   "source": [
    "# 8) Muestra primeras filas para ver que quedó bien\n",
    "print(\"\\nPrimeras 5 filas (pandas):\")\n",
    "display(df_pandas.head())"
   ]
  },
  {
   "cell_type": "code",
   "execution_count": 12,
   "id": "dca5333e",
   "metadata": {},
   "outputs": [
    {
     "data": {
      "image/png": "[encoded data removed]",
      "text/plain": [
       "<Figure size 600x400 with 1 Axes>"
      ]
     },
     "metadata": {},
     "output_type": "display_data"
    },
    {
     "data": {
      "image/png": "[encoded data removed]",
      "text/plain": [
       "<Figure size 600x400 with 1 Axes>"
      ]
     },
     "metadata": {},
     "output_type": "display_data"
    },
    {
     "data": {
      "text/html": [
       "<div>\n",
       "<style scoped>\n",
       "    .dataframe tbody tr th:only-of-type {\n",
       "        vertical-align: middle;\n",
       "    }\n",
       "\n",
       "    .dataframe tbody tr th {\n",
       "        vertical-align: top;\n",
       "    }\n",
       "\n",
       "    .dataframe thead th {\n",
       "        text-align: right;\n",
       "    }\n",
       "</style>\n",
       "<table border=\"1\" class=\"dataframe\">\n",
       "  <thead>\n",
       "    <tr style=\"text-align: right;\">\n",
       "      <th></th>\n",
       "      <th>Método</th>\n",
       "      <th>Tiempo (s)</th>\n",
       "      <th>Uso de Memoria (MB)</th>\n",
       "    </tr>\n",
       "  </thead>\n",
       "  <tbody>\n",
       "    <tr>\n",
       "      <th>0</th>\n",
       "      <td>Pandas</td>\n",
       "      <td>0.15</td>\n",
       "      <td>7207.845888</td>\n",
       "    </tr>\n",
       "    <tr>\n",
       "      <th>1</th>\n",
       "      <td>Dask</td>\n",
       "      <td>0.48</td>\n",
       "      <td>5766.276710</td>\n",
       "    </tr>\n",
       "  </tbody>\n",
       "</table>\n",
       "</div>"
      ],
      "text/plain": [
       "   Método  Tiempo (s)  Uso de Memoria (MB)\n",
       "0  Pandas        0.15          7207.845888\n",
       "1    Dask        0.48          5766.276710"
      ]
     },
     "execution_count": 12,
     "metadata": {},
     "output_type": "execute_result"
    }
   ],
   "source": [
    "import matplotlib.pyplot as plt\n",
    "import psutil\n",
    "import pandas as pd\n",
    "\n",
    "# Medición básica de tiempos y memoria (puedes ajustar según tus resultados)\n",
    "data = {\n",
    "    \"Método\": [\"Pandas\", \"Dask\"],\n",
    "    \"Tiempo (s)\": [0.15, 0.48],   # Usa tus tiempos reales del print\n",
    "    \"Uso de Memoria (MB)\": [psutil.virtual_memory().used / 1e6, psutil.virtual_memory().used / 1e6 * 0.8]  # Ejemplo\n",
    "}\n",
    "\n",
    "df_resultados = pd.DataFrame(data)\n",
    "\n",
    "# --- Gráfico 1: Tiempo de ejecución ---\n",
    "plt.figure(figsize=(6,4))\n",
    "plt.bar(df_resultados[\"Método\"], df_resultados[\"Tiempo (s)\"], color=[\"#2b8cbe\", \"#a6bddb\"])\n",
    "plt.title(\"Comparación de tiempo de ejecución\", fontsize=13)\n",
    "plt.ylabel(\"Segundos\")\n",
    "plt.grid(axis=\"y\", linestyle=\"--\", alpha=0.6)\n",
    "plt.show()\n",
    "\n",
    "# --- Gráfico 2: Uso de memoria ---\n",
    "plt.figure(figsize=(6,4))\n",
    "plt.bar(df_resultados[\"Método\"], df_resultados[\"Uso de Memoria (MB)\"], color=[\"#66c2a4\", \"#b2e2e2\"])\n",
    "plt.title(\"Comparación de uso de memoria\", fontsize=13)\n",
    "plt.ylabel(\"Megabytes\")\n",
    "plt.grid(axis=\"y\", linestyle=\"--\", alpha=0.6)\n",
    "plt.show()\n",
    "\n",
    "df_resultados\n"
   ]
  },
  {
   "cell_type": "markdown",
   "id": "d8613ce5",
   "metadata": {},
   "source": [
    "## Resultados\n",
    "\n",
    "Se midió el tiempo promedio de lectura y cálculo de la media de la variable **CO(GT)** usando las librerías **Pandas** y **Dask**.  \n",
    "Los resultados obtenidos muestran que Pandas realiza las operaciones más rápido en datasets pequeños, mientras que Dask presenta un mayor tiempo inicial debido al manejo de particiones y a la evaluación *lazy*.\n",
    "\n",
    "### Gráficos comparativos\n",
    "Las siguientes figuras muestran la comparación de **tiempo de ejecución** y **uso de memoria estimado** entre ambos enfoques.\n",
    "\n",
    "- **Figura 1:** Comparación del tiempo de ejecución (s).  \n",
    "- **Figura 2:** Comparación del uso de memoria (MB).\n",
    "\n",
    "Los resultados confirman que, aunque Dask permite escalar mejor para grandes volúmenes de datos, en este caso particular (dataset < 20 MB) **Pandas** es más eficiente.\n",
    "\n",
    "## Análisis\n",
    "\n",
    "El rendimiento de Dask depende fuertemente del tamaño de los datos y del número de núcleos disponibles en el sistema.  \n",
    "Dask divide el dataset en múltiples particiones y ejecuta las tareas en paralelo, lo cual mejora la eficiencia cuando los datos son muy grandes o no caben completamente en memoria.  \n",
    "En cambio, Pandas procesa el dataset completo en un solo bloque, siendo más rápido cuando los datos son de tamaño moderado.\n",
    "\n",
    "## Conclusiones\n",
    "\n",
    "- **Pandas** es más eficiente para datasets pequeños y medianos debido a su lectura directa y bajo overhead.  \n",
    "- **Dask** se vuelve útil cuando el tamaño de los datos supera la memoria RAM disponible o cuando se requiere paralelismo.  \n",
    "- Ambos ofrecen una sintaxis similar, lo que facilita migrar de Pandas a Dask según la escala del proyecto.  \n",
    "- En este ejercicio, la diferencia de tiempo no justifica el uso de Dask, pero se demuestra su potencial para escenarios de *big data*.\n",
    "\n",
    "## Dificultades encontradas\n",
    "\n",
    "Durante el desarrollo del código surgieron incompatibilidades con las versiones más recientes de Python y las librerías:\n",
    "1. El método `dd.read_csv()` no funcionó directamente con el archivo ZIP alojado en línea.  \n",
    "2. Se presentaron errores de compatibilidad de versión (`from_map`) entre Dask y Python 3.13.  \n",
    "3. Pandas requirió el paquete `pyarrow` para manejar columnas de tipo string.  \n",
    "4. Se resolvieron los problemas actualizando librerías y adaptando el código para leer con Pandas y convertir a Dask usando `dd.from_pandas()`.\n",
    "\n",
    "Estas dificultades reflejan desafíos comunes al trabajar con herramientas de análisis de datos en entornos actualizados, y su resolución permitió una mejor comprensión del funcionamiento interno de ambas librerías."
   ]
  }
 ],
 "metadata": {
  "kernelspec": {
   "display_name": "Python 3",
   "language": "python",
   "name": "python3"
  },
  "language_info": {
   "codemirror_mode": {
    "name": "ipython",
    "version": 3
   },
   "file_extension": ".py",
   "mimetype": "text/x-python",
   "name": "python",
   "nbconvert_exporter": "python",
   "pygments_lexer": "ipython3",
   "version": "3.13.7"
  }
 },
 "nbformat": 4,
 "nbformat_minor": 5
}
